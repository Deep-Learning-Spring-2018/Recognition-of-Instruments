{
 "cells": [
  {
   "cell_type": "code",
   "execution_count": 1,
   "metadata": {},
   "outputs": [],
   "source": [
    "import zipfile\n",
    "from pathlib import Path"
   ]
  },
  {
   "cell_type": "code",
   "execution_count": 2,
   "metadata": {},
   "outputs": [],
   "source": [
    "parent=Path(\".\")"
   ]
  },
  {
   "cell_type": "code",
   "execution_count": 5,
   "metadata": {},
   "outputs": [
    {
     "data": {
      "text/plain": [
       "[PosixPath('AltoSax.NoVib.ff.stereo.zip'),\n",
       " PosixPath('Violin.arco.ff.sulE.stereo.zip'),\n",
       " PosixPath('Viola.arco.ff.sulC.stereo.zip'),\n",
       " PosixPath('flute.nonvib.mf.zip'),\n",
       " PosixPath('SopSax.nonvib.ff.stereo.zip'),\n",
       " PosixPath('AltoSax.vib.ff.stereo.zip'),\n",
       " PosixPath('BbClarinet.ff.stereo.zip'),\n",
       " PosixPath('TenorTrombone.ff.stereo.zip'),\n",
       " PosixPath('flute.vib.ff.zip'),\n",
       " PosixPath('Viola.arco.ff.sulG.stereo.zip'),\n",
       " PosixPath('Cello.arco.ff.sulA.stereo.zip'),\n",
       " PosixPath('Horn.ff.stereo.zip'),\n",
       " PosixPath('Cello.arco.ff.sulG.stereo.zip'),\n",
       " PosixPath('flute.vib.zip'),\n",
       " PosixPath('Violin.arco.ff.sulD.stereo.zip'),\n",
       " PosixPath('flute.vib.pp.zip'),\n",
       " PosixPath('BassTrombone.ff.stereo.zip'),\n",
       " PosixPath('Trumpet.vib.ff.stereo.zip'),\n",
       " PosixPath('Viola.arco.ff.sulA.stereo.zip'),\n",
       " PosixPath('flute.nonvib.ff.zip'),\n",
       " PosixPath('SopSax.vib.ff.stereo.zip'),\n",
       " PosixPath('Viola.arco.ff.sulD.stereo.zip'),\n",
       " PosixPath('flute.nonvib.pp.zip'),\n",
       " PosixPath('Oboe.ff.stereo.zip'),\n",
       " PosixPath('flute.nonvib.zip'),\n",
       " PosixPath('EbClarinet.ff.stereo.zip'),\n",
       " PosixPath('Violin.arco.ff.sulG.stereo.zip'),\n",
       " PosixPath('Violin.arco.ff.sulA.stereo.zip'),\n",
       " PosixPath('Cello.arco.ff.sulC.stereo.zip'),\n",
       " PosixPath('flute.vib.mf.zip'),\n",
       " PosixPath('Cello.arco.ff.sulD.stereo.zip'),\n",
       " PosixPath('BassFlute.ff.stereo.zip'),\n",
       " PosixPath('Trumpet.novib.ff.stereo.zip')]"
      ]
     },
     "execution_count": 5,
     "metadata": {},
     "output_type": "execute_result"
    }
   ],
   "source": [
    "zip_files_dir=[x for x in parent.iterdir() if x.suffix=='.zip']\n",
    "zip_files_dir"
   ]
  },
  {
   "cell_type": "code",
   "execution_count": 11,
   "metadata": {},
   "outputs": [],
   "source": [
    "instruments=['AltoSax','BassFlute','BbClarinet','Cello','EbClarinet','Horn','Oboe','SopSax','TenorTrombone','Trumpet','Viola','Violin']"
   ]
  },
  {
   "cell_type": "code",
   "execution_count": 8,
   "metadata": {},
   "outputs": [],
   "source": [
    "for instrument in instruments:\n",
    "    Path(instrument).mkdir()"
   ]
  },
  {
   "cell_type": "code",
   "execution_count": 10,
   "metadata": {},
   "outputs": [],
   "source": [
    "for zip_file_path in zip_files_dir:\n",
    "    zip_file=zipfile.ZipFile(zip_file_path)\n",
    "    instrument_name=zip_file_path.name.split('.')[0]\n",
    "    zip_file.extractall(path=Path(instrument_name),members=[x for x  in zip_file.namelist() if x.find('MACOSX')==-1])"
   ]
  },
  {
   "cell_type": "code",
   "execution_count": null,
   "metadata": {},
   "outputs": [],
   "source": []
  }
 ],
 "metadata": {
  "kernelspec": {
   "display_name": "Python 3",
   "language": "python",
   "name": "python3"
  },
  "language_info": {
   "codemirror_mode": {
    "name": "ipython",
    "version": 3
   },
   "file_extension": ".py",
   "mimetype": "text/x-python",
   "name": "python",
   "nbconvert_exporter": "python",
   "pygments_lexer": "ipython3",
   "version": "3.6.3"
  }
 },
 "nbformat": 4,
 "nbformat_minor": 2
}
