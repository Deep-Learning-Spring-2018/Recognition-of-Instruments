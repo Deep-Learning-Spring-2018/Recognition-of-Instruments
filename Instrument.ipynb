{
 "cells": [
  {
   "cell_type": "code",
   "execution_count": 1,
   "metadata": {},
   "outputs": [],
   "source": [
    "import aiff_process"
   ]
  },
  {
   "cell_type": "code",
   "execution_count": 2,
   "metadata": {},
   "outputs": [
    {
     "name": "stdout",
     "output_type": "stream",
     "text": [
      "1 file is processed\n",
      "2 file is processed\n",
      "3 file is processed\n",
      "4 file is processed\n",
      "5 file is processed\n",
      "6 file is processed\n",
      "7 file is processed\n",
      "8 file is processed\n",
      "9 file is processed\n",
      "10 file is processed\n",
      "11 file is processed\n",
      "12 file is processed\n",
      "13 file is processed\n",
      "14 file is processed\n",
      "15 file is processed\n",
      "16 file is processed\n",
      "17 file is processed\n",
      "18 file is processed\n",
      "19 file is processed\n",
      "20 file is processed\n",
      "21 file is processed\n",
      "22 file is processed\n",
      "23 file is processed\n",
      "24 file is processed\n",
      "25 file is processed\n",
      "26 file is processed\n",
      "27 file is processed\n",
      "28 file is processed\n",
      "29 file is processed\n",
      "30 file is processed\n",
      "31 file is processed\n",
      "32 file is processed\n",
      "33 file is processed\n",
      "34 file is processed\n",
      "35 file is processed\n",
      "36 file is processed\n",
      "37 file is processed\n",
      "38 file is processed\n",
      "39 file is processed\n",
      "40 file is processed\n",
      "41 file is processed\n",
      "42 file is processed\n",
      "43 file is processed\n",
      "44 file is processed\n",
      "45 file is processed\n",
      "46 file is processed\n",
      "47 file is processed\n",
      "48 file is processed\n",
      "49 file is processed\n",
      "50 file is processed\n",
      "51 file is processed\n",
      "52 file is processed\n",
      "53 file is processed\n",
      "54 file is processed\n",
      "55 file is processed\n",
      "56 file is processed\n",
      "57 file is processed\n",
      "58 file is processed\n",
      "59 file is processed\n",
      "60 file is processed\n",
      "61 file is processed\n",
      "62 file is processed\n",
      "63 file is processed\n",
      "64 file is processed\n",
      "65 file is processed\n",
      "66 file is processed\n",
      "67 file is processed\n",
      "68 file is processed\n",
      "69 file is processed\n",
      "70 file is processed\n",
      "71 file is processed\n",
      "72 file is processed\n",
      "73 file is processed\n",
      "74 file is processed\n",
      "75 file is processed\n",
      "76 file is processed\n",
      "77 file is processed\n",
      "78 file is processed\n",
      "79 file is processed\n",
      "80 file is processed\n",
      "81 file is processed\n",
      "82 file is processed\n",
      "83 file is processed\n",
      "84 file is processed\n",
      "85 file is processed\n",
      "86 file is processed\n",
      "87 file is processed\n",
      "88 file is processed\n",
      "89 file is processed\n",
      "90 file is processed\n"
     ]
    },
    {
     "data": {
      "text/plain": [
       "<matplotlib.figure.Figure at 0x7f07a1b5ee48>"
      ]
     },
     "metadata": {},
     "output_type": "display_data"
    }
   ],
   "source": [
    "VIOLIN_PATH = \"./resource/violin\"\n",
    "my_obj = aiff_process.aiff(VIOLIN_PATH)\n",
    "my_obj.spectrogram_process()\n",
    "my_obj.mpr_process()"
   ]
  },
  {
   "cell_type": "code",
   "execution_count": null,
   "metadata": {},
   "outputs": [],
   "source": []
  }
 ],
 "metadata": {
  "kernelspec": {
   "display_name": "Python 3",
   "language": "python",
   "name": "python3"
  },
  "language_info": {
   "codemirror_mode": {
    "name": "ipython",
    "version": 3
   },
   "file_extension": ".py",
   "mimetype": "text/x-python",
   "name": "python",
   "nbconvert_exporter": "python",
   "pygments_lexer": "ipython3",
   "version": "3.6.3"
  }
 },
 "nbformat": 4,
 "nbformat_minor": 2
}
